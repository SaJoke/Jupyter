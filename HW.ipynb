{
 "cells": [
  {
   "cell_type": "markdown",
   "id": "23bd200b",
   "metadata": {},
   "source": [
    "# Approximate 1D by FDM"
   ]
  },
  {
   "cell_type": "code",
   "execution_count": 1,
   "id": "a1aa4c46",
   "metadata": {
    "scrolled": true
   },
   "outputs": [
    {
     "name": "stdout",
     "output_type": "stream",
     "text": [
      "[[ 2.14027673]\n",
      " [ 1.33416453]\n",
      " [ 0.55741892]\n",
      " [-0.21302994]]\n"
     ]
    }
   ],
   "source": [
    "import numpy, math\n",
    "\n",
    "#Problem function F(u)=f(x)\n",
    "def f(x):\n",
    "    return 1-x\n",
    "\n",
    "#Boundary Conditions\n",
    "def bf(x):\n",
    "    return 3-4*x\n",
    "\n",
    "\n",
    "def Uf(number_intervals,a,b):\n",
    "    h = (b-a)/number_intervals\n",
    "    X = [a+i*h for i in range(number_intervals+1)]\n",
    "\n",
    "    #approximated function (c_i-1)(u_i-1)+(c_i)(u_i)+(c_i+1)(u_i+1)=f(x)\n",
    "    #Enter ONLY c_i-1,c_i,c_i+1\n",
    "    C = [-1/h/h, 2/h/h+1, -1/h/h]\n",
    "\n",
    "    Ai = (number_intervals-1)*[0]\n",
    "    Ai[:2] = C[1:]\n",
    "    A = [Ai]\n",
    "    B = [[f(X[1])-C[0]*bf(a)]]\n",
    "    for i in range(1,number_intervals-2):\n",
    "        Ai = (number_intervals-1)*[0]\n",
    "        Ai[i-1:i+2] = C\n",
    "        A.append(Ai)\n",
    "        B.append([f(X[i+1])])\n",
    "    Ai = (number_intervals-1)*[0]\n",
    "    Ai[-2:] = C[:2]\n",
    "    A.append(Ai)\n",
    "    B.append([f(X[number_intervals-1])-C[2]*bf(b)])\n",
    "\n",
    "    A = numpy.array(A)\n",
    "    B = numpy.array(B)\n",
    "    return numpy.linalg.inv(A).dot(B)\n",
    "\n",
    "print(Uf(5,0,1))"
   ]
  },
  {
   "cell_type": "markdown",
   "id": "1cff531f",
   "metadata": {},
   "source": [
    "# Compare to exact solution (1D)"
   ]
  },
  {
   "cell_type": "code",
   "execution_count": 2,
   "id": "ffe0afb4",
   "metadata": {
    "scrolled": false
   },
   "outputs": [
    {
     "name": "stdout",
     "output_type": "stream",
     "text": [
      "h = 0.2 \t RMSE = 0.0001517386539341629 \n",
      "\n",
      "h = 0.1 \t RMSE = 3.6021009621095275e-05 \n",
      "\n",
      "h = 0.02 \t RMSE = 1.3827733024229342e-06 \n",
      "\n",
      "h = 0.01 \t RMSE = 3.439561409467372e-07 \n",
      "\n",
      "h = 0.002 \t RMSE = 1.370320445046174e-08 \n",
      "\n",
      "h = 0.001 \t RMSE = 3.423994660686047e-09 \n",
      "\n"
     ]
    }
   ],
   "source": [
    "#exact solution\n",
    "e = math.e\n",
    "def ef(x):\n",
    "    c1 = (2+e)/(1-e*e)\n",
    "    c2 = 2-(2+e)/(1-e*e)\n",
    "    return c1*math.pow(e,x)+c2*math.pow(e,-x)-x+1\n",
    "\n",
    "def compare(number_intervals,a,b):\n",
    "    h = (b-a)/number_intervals\n",
    "    U = Uf(number_intervals,a,b)\n",
    "    \n",
    "    #exact solution points E\n",
    "    E = []\n",
    "    for i in range(1,number_intervals):\n",
    "        E.append([ef(a+i*h)])\n",
    "\n",
    "    #measure by RMSE(L2-norm)\n",
    "    RMSE = numpy.sqrt(numpy.square(numpy.subtract(E,U)).mean())\n",
    "    return h,RMSE\n",
    "\n",
    "for i in range(3):\n",
    "    h,RMSE = compare(int(math.pow(10,i+1)/2),0,1)\n",
    "    print('h =',h,'\\t RMSE =',RMSE,'\\n')\n",
    "    h,RMSE = compare(int(math.pow(10,i+1)),0,1)\n",
    "    print('h =',h,'\\t RMSE =',RMSE,'\\n')\n"
   ]
  },
  {
   "cell_type": "markdown",
   "id": "df0f032c",
   "metadata": {},
   "source": [
    "## Approximate 2D by FDM"
   ]
  },
  {
   "cell_type": "code",
   "execution_count": 8,
   "id": "919c01b4",
   "metadata": {
    "scrolled": true
   },
   "outputs": [
    {
     "data": {
      "text/plain": [
       "array([[ 6.38101989e-02],\n",
       "       [ 6.38101989e-02],\n",
       "       [ 1.21430643e-17],\n",
       "       [ 1.04083409e-17],\n",
       "       [-6.38101989e-02],\n",
       "       [-6.38101989e-02]])"
      ]
     },
     "execution_count": 8,
     "metadata": {},
     "output_type": "execute_result"
    }
   ],
   "source": [
    "import numpy\n",
    "import math\n",
    "\n",
    "#Problem function F(u)=f(x,y)\n",
    "def f(x,y):\n",
    "    return 4*(math.pi)*(math.pi)*math.sin(2*math.pi*x)*y*y*(1-y)*(1-y)-math.sin(2*math.pi*x)*(2-12*y+12*y*y)\n",
    "\n",
    "#Boundary Conditions\n",
    "def bf(x,y):\n",
    "    return 0\n",
    "\n",
    "import numpy\n",
    "def Uf(nix,ax,bx,niy,ay,by):\n",
    "    hx = (bx-ax)/nix\n",
    "    hy = (by-ay)/niy\n",
    "    X = [[ax+i*hx for i in range(nix+1)],[ay+j*hy for j in range(niy+1)]]\n",
    "\n",
    "    '''approximated coefficient \n",
    "    [[(c_i-1,j-1),(c_i-1,j),(c_i-1,j+1)]\n",
    "     [ (c_i,j-1) , (c_i,j) , (c_i,j+1) ]\n",
    "     [(c_i+1,j-1),(c_i+1,j),(c_i+1,j+1)]]\n",
    "    \n",
    "    '''\n",
    "    \n",
    "    hx2 = hx*hx\n",
    "    hy2 = hy*hy\n",
    "    C = [[   0   , -1/hx2     ,   0   ],\n",
    "         [ -1/hy2, 2/hx2+2/hy2, -1/hy2],\n",
    "         [   0   , -1/hx2     ,   0   ]]\n",
    "    \n",
    "    sx = 2*nix-3\n",
    "    sx = 3 if nix==1 else sx\n",
    "    sy = 2*niy-3\n",
    "    sy = 3 if niy==1 else sy\n",
    "    \n",
    "    SC = numpy.zeros((sx,sy))\n",
    "    SC[int(sx/2)-1:int(sx/2)+2:1, int(sy/2)-1:int(sy/2)+2:1] = C\n",
    "    A = []\n",
    "    B = []\n",
    "    for i in range(1,nix):\n",
    "        for j in range(1,niy):\n",
    "            Ai = SC[nix-i-1:2*nix-i-2:1, niy-j-1:2*niy-j-2:1]\n",
    "            A.append(Ai)            \n",
    "    A = numpy.array(A).reshape((nix-1)*(niy-1),(nix-1)*(niy-1))\n",
    "    \n",
    "    SB = numpy.zeros((nix+1,niy+1))\n",
    "    for i in range(nix+1):\n",
    "        for j in range(niy+1):\n",
    "            if i==0 or j==0 or i==nix or j==niy:\n",
    "                SB[i][j]=bf(X[0][i],X[1][j])\n",
    "    B = []\n",
    "    for i in range(nix-1):\n",
    "        for j in range(niy-1):\n",
    "            Bi = []\n",
    "            Bi.append(f(X[0][i+1],X[1][j+1])-numpy.sum(C*SB[i:i+3:1,j:j+3:1]))\n",
    "            B.append(Bi)\n",
    "    B = numpy.array(B)\n",
    "    return numpy.linalg.inv(A).dot(B)\n",
    "\n",
    "Uf(4,0,1,3,0,1)"
   ]
  },
  {
   "cell_type": "markdown",
   "id": "6949916d",
   "metadata": {},
   "source": [
    "## Compare to exact solution (2D)"
   ]
  },
  {
   "cell_type": "code",
   "execution_count": 4,
   "id": "1229afd0",
   "metadata": {
    "scrolled": false
   },
   "outputs": [
    {
     "name": "stdout",
     "output_type": "stream",
     "text": [
      "hx = 0.25 \t hy = 0.333333 \t RMSE = 0.011779990387091023 \n",
      "\n",
      "hx = 0.125 \t hy = 0.111111 \t RMSE = 0.001702260814235706 \n",
      "\n",
      "hx = 0.0625 \t hy = 0.037037 \t RMSE = 0.00034076132264646366 \n",
      "\n",
      "hx = 0.03125 \t hy = 0.012346 \t RMSE = 7.738322685873063e-05 \n",
      "\n"
     ]
    }
   ],
   "source": [
    "#exact solution\n",
    "e = math.e\n",
    "def ef(x,y):\n",
    "    return math.sin(2*math.pi*x)*y*y*(1-y)*(1-y)\n",
    "\n",
    "def compare(nix,ax,bx,niy,ay,by):\n",
    "    hx = (bx-ax)/nix\n",
    "    hy = (by-ay)/niy\n",
    "    U = Uf(nix,ax,bx,niy,ay,by)\n",
    "    \n",
    "    #exact solution points E\n",
    "    E = []\n",
    "    for i in range(1,nix):\n",
    "        for j in range(1,niy):\n",
    "            E.append([ef(ax+i*hx,ay+j*hy)])\n",
    "\n",
    "    #measure by RMSE(L2-norm)\n",
    "    RMSE = numpy.sqrt(numpy.square(numpy.subtract(E,U)).mean())\n",
    "    return hx,hy,RMSE\n",
    "    \n",
    "for i in range(2,6):\n",
    "    hx,hy,RMSE = compare(int(math.pow(2,i)),0,1,int(math.pow(3,i-1)),0,1)\n",
    "    print('hx =',round(hx,6),'\\t hy =',round(hy,6),'\\t RMSE =',RMSE,'\\n')"
   ]
  },
  {
   "cell_type": "markdown",
   "id": "8d2bef5a",
   "metadata": {},
   "source": [
    "# END"
   ]
  },
  {
   "cell_type": "code",
   "execution_count": 5,
   "id": "8a0859d8",
   "metadata": {},
   "outputs": [
    {
     "data": {
      "text/plain": [
       "array([[0., 0., 1., 2., 0.],\n",
       "       [0., 3., 4., 5., 0.],\n",
       "       [0., 6., 7., 8., 0.]])"
      ]
     },
     "execution_count": 5,
     "metadata": {},
     "output_type": "execute_result"
    }
   ],
   "source": [
    "A = numpy.arange(9).reshape(3,3)\n",
    "nix = 3\n",
    "niy = 4\n",
    "sx = 2*nix-3\n",
    "sx = 3 if nix==1 else sx\n",
    "sy = 2*niy-3\n",
    "sy = 3 if niy==1 else sy\n",
    "    \n",
    "SC = numpy.zeros((sx,sy))\n",
    "SC[int(sx/2)-1:int(sx/2)+2:1, int(sy/2)-1:int(sy/2)+2:1] = A\n",
    "SC"
   ]
  },
  {
   "cell_type": "code",
   "execution_count": 6,
   "id": "2c758177",
   "metadata": {},
   "outputs": [
    {
     "data": {
      "text/plain": [
       "20"
      ]
     },
     "execution_count": 6,
     "metadata": {},
     "output_type": "execute_result"
    }
   ],
   "source": [
    "A = numpy.arange(4).reshape(2,2)\n",
    "B = numpy.arange(1,5).reshape(2,2)\n",
    "numpy.sum(A*B)"
   ]
  },
  {
   "cell_type": "markdown",
   "id": "6a9855c7",
   "metadata": {},
   "source": [
    "# problem 6"
   ]
  },
  {
   "cell_type": "code",
   "execution_count": 7,
   "id": "8786fa80",
   "metadata": {},
   "outputs": [
    {
     "name": "stdout",
     "output_type": "stream",
     "text": [
      "[[ 2.61621815e+00]\n",
      " [ 2.61621815e+00]\n",
      " [ 3.20394319e-16]\n",
      " [ 3.20394319e-16]\n",
      " [-2.61621815e+00]\n",
      " [-2.61621815e+00]]\n",
      "[[0.04938271604938273], [0.04938271604938273], [6.047638514307918e-18], [6.047638514307918e-18], [-0.04938271604938273], [-0.04938271604938273]]\n"
     ]
    }
   ],
   "source": [
    "\n",
    "\n",
    "def u(x,y):\n",
    "    return math.sin(2*math.pi*x)*y*y*(1-y)*(1-y)\n",
    "\n",
    "A = numpy.array([[50,-9,-16,0,0,0], [-9,50,0,-16,0,0], [-16,0,50,-9,-16,0], [0,-16,-9,50,0,-16], [0,0,-16,0,50,-9], [0,0,0,-16,-9,50]])\n",
    "B = numpy.array([[f(1/4,1/3)],[f(1/4,2/3)],[f(2/4,1/3)],[f(2/4,2/3)],[f(3/4,1/3)],[f(3/4,2/3)]])\n",
    "X = numpy.linalg.inv(A).dot(B)\n",
    "\n",
    "print(B)\n",
    "\n",
    "print([[u(1/4,1/3)],[u(1/4,2/3)],[u(2/4,1/3)],[u(2/4,2/3)],[u(3/4,1/3)],[u(3/4,2/3)]])"
   ]
  },
  {
   "cell_type": "code",
   "execution_count": null,
   "id": "ce7ec5ce",
   "metadata": {},
   "outputs": [],
   "source": []
  }
 ],
 "metadata": {
  "kernelspec": {
   "display_name": "Python 3",
   "language": "python",
   "name": "python3"
  },
  "language_info": {
   "codemirror_mode": {
    "name": "ipython",
    "version": 3
   },
   "file_extension": ".py",
   "mimetype": "text/x-python",
   "name": "python",
   "nbconvert_exporter": "python",
   "pygments_lexer": "ipython3",
   "version": "3.8.10"
  }
 },
 "nbformat": 4,
 "nbformat_minor": 5
}
